{
 "cells": [
  {
   "cell_type": "markdown",
   "id": "357f7684",
   "metadata": {},
   "source": [
    "# Plan for the Game\n",
    "Game Functions\n",
    "1. Take name for player 1 and 2.\n",
    "2. Who will go first?\n",
    "3. Choose marker.\n",
    "4. Display.\n",
    "5. Choose position.\n",
    "6. Check position.\n",
    "7. Place marker on display.\n",
    "8. Check which player wom.\n",
    "9. Full Board.\n",
    "10. Change Marker.\n",
    "11. If a player wins then increase the score."
   ]
  },
  {
   "cell_type": "code",
   "execution_count": 39,
   "id": "ee4b7b65",
   "metadata": {},
   "outputs": [],
   "source": [
    "# Importing Necessary Libraries\n",
    "import random\n",
    "from IPython.display import clear_output"
   ]
  },
  {
   "cell_type": "code",
   "execution_count": 16,
   "id": "6ae8f8bb",
   "metadata": {},
   "outputs": [],
   "source": [
    "# Displaying the Game Board\n",
    "def display(li):\n",
    "    print(li[7], \"|\", li[8], \"|\", li[9])\n",
    "    print(\"-\"*10)\n",
    "    print(li[4], \"|\", li[5], \"|\", li[6])\n",
    "    print(\"-\"*10)\n",
    "    print(li[1], \"|\", li[2], \"|\", li[3])"
   ]
  },
  {
   "cell_type": "code",
   "execution_count": 38,
   "id": "db23bd25",
   "metadata": {},
   "outputs": [],
   "source": [
    "# Choosing the positon for the X or O to be placed.\n",
    "def choose_position(li):\n",
    "    display(li)\n",
    "    position=None\n",
    "    while not position:\n",
    "        position=input(\"Enter a number between 1 & 9: \")\n",
    "        if not position.isdigit():\n",
    "            positon=None\n",
    "        elif not int(position) in range(1,10):\n",
    "            position=None\n",
    "        elif not check_position(li, int(position)):\n",
    "            positon=None\n",
    "            \n",
    "    return int(position)"
   ]
  },
  {
   "cell_type": "code",
   "execution_count": 18,
   "id": "521051d6",
   "metadata": {},
   "outputs": [],
   "source": [
    "# Checking if the position entered is empty or not.\n",
    "def check_position(li, position):\n",
    "    if li[position]==\" \":\n",
    "        return True\n",
    "    return False"
   ]
  },
  {
   "cell_type": "code",
   "execution_count": 19,
   "id": "c744f6b1",
   "metadata": {},
   "outputs": [],
   "source": [
    "# Putting the marker on the entered position.\n",
    "def put_marker(li, marker):\n",
    "    position=choose_position(li)\n",
    "    li[position]=marker\n",
    "    display(li)\n",
    "    "
   ]
  },
  {
   "cell_type": "code",
   "execution_count": 20,
   "id": "f0d3da08",
   "metadata": {},
   "outputs": [],
   "source": [
    "# Checking for which player has won.\n",
    "def check_win(li):\n",
    "    for i in range(3,0,-1):\n",
    "        if(li[i]==li[i+3]==li[i+6] !=\" \") or (li[i*3]==li[i*3-1]==li[i*3-2] !=\" \"):\n",
    "            return True\n",
    "    if li[7] == li[5] == li[3] != \" \":\n",
    "        return True\n",
    "\n",
    "    if li[9] == li[5] == li[1]  != \" \":\n",
    "        return True\n",
    "\n",
    "    return False"
   ]
  },
  {
   "cell_type": "code",
   "execution_count": 21,
   "id": "304e492d",
   "metadata": {},
   "outputs": [],
   "source": [
    "# Checking if the game board is full or not.\n",
    "def full_board(li):\n",
    "    for i in range(1,10):\n",
    "        if li[i]==\" \":\n",
    "            return False\n",
    "    return True"
   ]
  },
  {
   "cell_type": "code",
   "execution_count": 22,
   "id": "e3dc22e2",
   "metadata": {},
   "outputs": [],
   "source": [
    "# Switching the marker for the other player's turn.\n",
    "def switch_marker(marker):\n",
    "    if marker==\"X\":\n",
    "        return \"O\"\n",
    "    return \"X\""
   ]
  },
  {
   "cell_type": "code",
   "execution_count": 23,
   "id": "95c1ba00",
   "metadata": {},
   "outputs": [],
   "source": [
    "# Switching the current player to another player so that both the person plays turn by turn.\n",
    "def switch_player(current, player1, player2):\n",
    "    if current==player1:\n",
    "        return player2\n",
    "    return player1"
   ]
  },
  {
   "cell_type": "code",
   "execution_count": 24,
   "id": "ce4ed6a2",
   "metadata": {},
   "outputs": [],
   "source": [
    "# Taking input the name of the players.\n",
    "def take_name():\n",
    "    player=None\n",
    "    while not player:\n",
    "        player=input(\"Enter your name: \")\n",
    "        if not player.isalpha():\n",
    "            player=None\n",
    "    \n",
    "    return player"
   ]
  },
  {
   "cell_type": "code",
   "execution_count": 25,
   "id": "f11f3e99",
   "metadata": {},
   "outputs": [],
   "source": [
    "# Choosing which player woould be going first at random.\n",
    "def choose_player(player1, player2):\n",
    "    if random.randint(0,1):\n",
    "        return player1\n",
    "    return player2"
   ]
  },
  {
   "cell_type": "code",
   "execution_count": 30,
   "id": "c389da15",
   "metadata": {},
   "outputs": [],
   "source": [
    "# Making the player choose the marker they want to play with.\n",
    "def choose_marker():\n",
    "    marker=None\n",
    "    while not marker:\n",
    "        marker=input(\"Enter X or O: \")\n",
    "        if marker.strip().upper() not in (\"X\",\"O\"):\n",
    "            marker=None\n",
    "    \n",
    "    return marker.strip().upper()"
   ]
  },
  {
   "cell_type": "code",
   "execution_count": 37,
   "id": "f9bddfc9",
   "metadata": {},
   "outputs": [
    {
     "name": "stdout",
     "output_type": "stream",
     "text": [
      "himi Wins.\n",
      "\n",
      "X | X | X\n",
      "----------\n",
      "  | O | O\n",
      "----------\n",
      "O |   |  \n"
     ]
    }
   ],
   "source": [
    "# Combining all the functions and setting some conditions in order to initiate our Board Game\n",
    "Game=True\n",
    "first_game=True\n",
    "repeat=False\n",
    "\n",
    "while Game:\n",
    "    if first_game:\n",
    "        li=[\" \"]*10\n",
    "        print(\"Welcome Players!\")\n",
    "        print(\"Player 1: \")\n",
    "        player1=take_name()\n",
    "        clear_output()\n",
    "        print(\"Player 2: \")\n",
    "        player2=take_name()\n",
    "        clear_output()\n",
    "        print(\"Welcome\", player1, \"&\", player2)\n",
    "        first_game=False\n",
    "    \n",
    "    if not repeat:\n",
    "        li=[\" \"]*10\n",
    "        cur_player=choose_player(player1, player2)\n",
    "        print(cur_player, \"will play first, choose your marker: \")\n",
    "        marker=choose_marker()\n",
    "        clear_output()\n",
    "        repeat=True\n",
    "    print(cur_player, \"'s turn\")\n",
    "    put_marker(li,marker)\n",
    "    clear_output()\n",
    "    if check_win(li):\n",
    "        print(cur_player,\"Wins.\\n\")\n",
    "        display(li)\n",
    "        break\n",
    "    if full_board(li):\n",
    "        print(\"The match is draw.\")\n",
    "        display(li)\n",
    "        break\n",
    "    marker=switch_marker(marker)\n",
    "    cur_player=switch_player(cur_player, player1, player2)"
   ]
  },
  {
   "cell_type": "code",
   "execution_count": null,
   "id": "97841a0c",
   "metadata": {},
   "outputs": [],
   "source": []
  },
  {
   "cell_type": "code",
   "execution_count": null,
   "id": "c9cb9145",
   "metadata": {},
   "outputs": [],
   "source": []
  },
  {
   "cell_type": "code",
   "execution_count": null,
   "id": "0441778c",
   "metadata": {},
   "outputs": [],
   "source": []
  },
  {
   "cell_type": "code",
   "execution_count": null,
   "id": "ab18f02b",
   "metadata": {},
   "outputs": [],
   "source": []
  },
  {
   "cell_type": "code",
   "execution_count": null,
   "id": "26f3ff3c",
   "metadata": {},
   "outputs": [],
   "source": []
  },
  {
   "cell_type": "code",
   "execution_count": null,
   "id": "61a260ee",
   "metadata": {},
   "outputs": [],
   "source": []
  }
 ],
 "metadata": {
  "kernelspec": {
   "display_name": "Python 3 (ipykernel)",
   "language": "python",
   "name": "python3"
  },
  "language_info": {
   "codemirror_mode": {
    "name": "ipython",
    "version": 3
   },
   "file_extension": ".py",
   "mimetype": "text/x-python",
   "name": "python",
   "nbconvert_exporter": "python",
   "pygments_lexer": "ipython3",
   "version": "3.9.7"
  }
 },
 "nbformat": 4,
 "nbformat_minor": 5
}
